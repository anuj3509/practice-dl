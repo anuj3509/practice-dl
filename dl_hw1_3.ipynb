{
  "nbformat": 4,
  "nbformat_minor": 0,
  "metadata": {
    "colab": {
      "provenance": [],
      "include_colab_link": true
    },
    "kernelspec": {
      "name": "python3",
      "display_name": "Python 3"
    },
    "language_info": {
      "name": "python"
    }
  },
  "cells": [
    {
      "cell_type": "markdown",
      "metadata": {
        "id": "view-in-github",
        "colab_type": "text"
      },
      "source": [
        "<a href=\"https://colab.research.google.com/github/anuj3509/practice-dl/blob/main/dl_hw1_3.ipynb\" target=\"_parent\"><img src=\"https://colab.research.google.com/assets/colab-badge.svg\" alt=\"Open In Colab\"/></a>"
      ]
    },
    {
      "cell_type": "markdown",
      "source": [
        "# PyTorch Basics\n",
        "\n",
        "I'll assume that everyone is familiar with python. Training neural nets in bare python is somewhat painful, but fortunately there are several well-established libraries which can help. I like pytorch, which is built upon an earlier library called torch. There are many others, including TensorFlow and Jax."
      ],
      "metadata": {
        "id": "txDUKwFp2O9L"
      }
    },
    {
      "cell_type": "code",
      "source": [
        "import torch\n",
        "\n",
        "device = torch.device\n",
        "#  ('cuda' if torch.cuda.is_available() else 'cpu')\n",
        "print('Using device:', device)"
      ],
      "metadata": {
        "colab": {
          "base_uri": "https://localhost:8080/"
        },
        "id": "TrfNS0wlZPHs",
        "outputId": "515d19f5-a51b-4b0c-c102-7102ec8b91db"
      },
      "execution_count": 4,
      "outputs": [
        {
          "output_type": "stream",
          "name": "stdout",
          "text": [
            "Using device: <class 'torch.device'>\n"
          ]
        }
      ]
    },
    {
      "cell_type": "code",
      "execution_count": 5,
      "metadata": {
        "id": "GlCIT7IJ2L0K"
      },
      "outputs": [],
      "source": [
        "# We start by importing the libraries we'll use today\n",
        "import numpy as np\n",
        "import torch\n",
        "import torchvision"
      ]
    },
    {
      "cell_type": "code",
      "source": [
        "a = np.random.rand(2,3)\n",
        "b = torch.from_numpy(a)\n",
        "\n",
        "print(a)\n",
        "print(b)"
      ],
      "metadata": {
        "colab": {
          "base_uri": "https://localhost:8080/"
        },
        "id": "MvYbWcJji2gZ",
        "outputId": "a222d6b6-67d8-4ba8-f231-493768814407"
      },
      "execution_count": 6,
      "outputs": [
        {
          "output_type": "stream",
          "name": "stdout",
          "text": [
            "[[0.65276822 0.54667194 0.95600648]\n",
            " [0.9769006  0.83385519 0.39464101]]\n",
            "tensor([[0.6528, 0.5467, 0.9560],\n",
            "        [0.9769, 0.8339, 0.3946]], dtype=torch.float64)\n"
          ]
        }
      ]
    },
    {
      "cell_type": "code",
      "source": [
        "print(b + 10.0)\n",
        "print()\n",
        "print(torch.sin(b))\n",
        "print()\n",
        "print(b.sum())\n",
        "print()\n",
        "print(b.mean())\n",
        "print()\n",
        "print(b.shape)"
      ],
      "metadata": {
        "colab": {
          "base_uri": "https://localhost:8080/"
        },
        "id": "vDhu7psgjBVe",
        "outputId": "812f9b6c-d355-4c54-9727-4fee434cf86f"
      },
      "execution_count": null,
      "outputs": [
        {
          "output_type": "stream",
          "name": "stdout",
          "text": [
            "tensor([[10.1340, 10.8278, 10.6470],\n",
            "        [10.5644, 10.0177, 10.2631]], dtype=torch.float64)\n",
            "\n",
            "tensor([[0.1336, 0.7365, 0.6028],\n",
            "        [0.5349, 0.0177, 0.2600]], dtype=torch.float64)\n",
            "\n",
            "tensor(2.4539, dtype=torch.float64)\n",
            "\n",
            "tensor(0.4090, dtype=torch.float64)\n",
            "\n",
            "torch.Size([2, 3])\n"
          ]
        }
      ]
    },
    {
      "cell_type": "markdown",
      "source": [
        "Torch believes everything is a *tensor.*\n",
        "\n",
        "The main intuition is that tensors allow for intuitive and efficient matrix multiplication across different indexing dimensions. Soon, we will see that training neural nets basically consits of *forward* and *backward* passes, both of which are essentially matrix multiplies.\n",
        "\n",
        "The other thing about torch variables is that they (natively) can be differentiated. Again, we'll see why this is important when we learn about backpropagation."
      ],
      "metadata": {
        "id": "otMKsc9W2woY"
      }
    },
    {
      "cell_type": "markdown",
      "source": [
        "Suppose we want $dy/da$ in the following expression:\n",
        "- $y = a + b$"
      ],
      "metadata": {
        "id": "4DihuedmqDyz"
      }
    },
    {
      "cell_type": "code",
      "source": [
        "a = torch.rand(1,1, requires_grad=True)\n",
        "b = torch.rand(1,1)\n",
        "y = a + b\n",
        "print(\"a:\", a)\n",
        "print(\"b:\", b)\n",
        "print(\"y:\", y)"
      ],
      "metadata": {
        "colab": {
          "base_uri": "https://localhost:8080/"
        },
        "id": "5YhcphgzjZXK",
        "outputId": "889c16ed-d07f-4360-9323-ba3ec7a5b691"
      },
      "execution_count": null,
      "outputs": [
        {
          "output_type": "stream",
          "name": "stdout",
          "text": [
            "a: tensor([[0.7438]], requires_grad=True)\n",
            "b: tensor([[0.1573]])\n",
            "y: tensor([[0.9011]], grad_fn=<AddBackward0>)\n"
          ]
        }
      ]
    },
    {
      "cell_type": "markdown",
      "source": [
        "Here, $y$ is a function of the input $a$ so we can use PyTorch to compute $dy/da$"
      ],
      "metadata": {
        "id": "L3DxgbnpyQmA"
      }
    },
    {
      "cell_type": "code",
      "source": [
        "y.backward()\n",
        "print(\"dy/da:\", a.grad)"
      ],
      "metadata": {
        "colab": {
          "base_uri": "https://localhost:8080/"
        },
        "id": "EWcV4s7zyMdW",
        "outputId": "5adefc1e-e528-4582-e724-1cb24170ebd8"
      },
      "execution_count": null,
      "outputs": [
        {
          "output_type": "stream",
          "name": "stdout",
          "text": [
            "dy/da: tensor([[1.]])\n"
          ]
        }
      ]
    },
    {
      "cell_type": "markdown",
      "source": [
        "Let's try this again with a more complex function:\n",
        "- $y = a^2 \\cdot b$\n",
        "\n"
      ],
      "metadata": {
        "id": "zAQSva_osWlH"
      }
    },
    {
      "cell_type": "code",
      "source": [
        "a = torch.rand(1,1, requires_grad=True)\n",
        "b = torch.rand(1,1)\n",
        "y = (a**2)*b\n",
        "print(\"a:\", a)\n",
        "print(\"b:\", b)\n",
        "print(\"y:\", y)\n",
        "y.backward()\n",
        "print(\"dy/da:\", a.grad)\n",
        "print(\"dy/da:\", 2 * a * b)"
      ],
      "metadata": {
        "colab": {
          "base_uri": "https://localhost:8080/"
        },
        "id": "rjxHZS1or4Rb",
        "outputId": "144e3aef-de0b-488a-a3fb-e65e9bc04acf"
      },
      "execution_count": null,
      "outputs": [
        {
          "output_type": "stream",
          "name": "stdout",
          "text": [
            "a: tensor([[0.0377]], requires_grad=True)\n",
            "b: tensor([[0.6349]])\n",
            "y: tensor([[0.0009]], grad_fn=<MulBackward0>)\n",
            "dy/da: tensor([[0.0479]])\n",
            "dy/da: tensor([[0.0479]], grad_fn=<MulBackward0>)\n"
          ]
        }
      ]
    },
    {
      "cell_type": "markdown",
      "source": [
        "Torch has calculated $dy/da$ using backpropagation which is in agreement with our answer calculated using standard differentiation rules."
      ],
      "metadata": {
        "id": "cDdbLxhFX1vW"
      }
    },
    {
      "cell_type": "markdown",
      "source": [
        "Here is an example with matrices and vectors:"
      ],
      "metadata": {
        "id": "Qn8qXugsAZ5I"
      }
    },
    {
      "cell_type": "code",
      "source": [
        "A = torch.rand(2,2)\n",
        "b = torch.rand(2,1)\n",
        "x = torch.rand(2,1, requires_grad = True)\n",
        "\n",
        "y = torch.matmul(A, x) + b\n",
        "z = y.sum()"
      ],
      "metadata": {
        "id": "2F0-AtH32vae"
      },
      "execution_count": null,
      "outputs": []
    },
    {
      "cell_type": "markdown",
      "source": [
        "Here, $z$ is a function of the input $x$. Let us now compute the derivative of $z$ with respect to $x$ using backpropagation."
      ],
      "metadata": {
        "id": "kbWH5spr3TS3"
      }
    },
    {
      "cell_type": "code",
      "source": [
        "z.backward()\n",
        "print(x)\n",
        "print(x.grad)"
      ],
      "metadata": {
        "colab": {
          "base_uri": "https://localhost:8080/"
        },
        "id": "MpUgxwJC3Nat",
        "outputId": "ce56671e-26c5-495f-abbc-31cb39d293c1"
      },
      "execution_count": null,
      "outputs": [
        {
          "output_type": "stream",
          "name": "stdout",
          "text": [
            "tensor([[0.4516],\n",
            "        [0.0423]], requires_grad=True)\n",
            "tensor([[0.2601],\n",
            "        [1.7281]])\n"
          ]
        }
      ]
    },
    {
      "cell_type": "markdown",
      "source": [
        "## Training simple models\n",
        "\n",
        "Let's jump in with our first, simple model. We will train a logistic classifier (equivalent to using a single-layer neural network) on a popular image dataset called *Fashion-MNIST*. Torchvision also has several other image datasets which we can directly load as variables."
      ],
      "metadata": {
        "id": "_09Os5Jv3h-9"
      }
    },
    {
      "cell_type": "code",
      "source": [
        "trainingdata = torchvision.datasets.FashionMNIST('./FashionMNIST/',train=True,download=True,transform=torchvision.transforms.ToTensor())\n",
        "testdata = torchvision.datasets.FashionMNIST('./FashionMNIST/',train=False,download=True,transform=torchvision.transforms.ToTensor())\n"
      ],
      "metadata": {
        "id": "q4j1iTpV3htP",
        "colab": {
          "base_uri": "https://localhost:8080/"
        },
        "outputId": "24637f81-2307-45c3-a1cf-3521d548fa21"
      },
      "execution_count": 7,
      "outputs": [
        {
          "output_type": "stream",
          "name": "stdout",
          "text": [
            "Downloading http://fashion-mnist.s3-website.eu-central-1.amazonaws.com/train-images-idx3-ubyte.gz\n",
            "Downloading http://fashion-mnist.s3-website.eu-central-1.amazonaws.com/train-images-idx3-ubyte.gz to ./FashionMNIST/FashionMNIST/raw/train-images-idx3-ubyte.gz\n"
          ]
        },
        {
          "output_type": "stream",
          "name": "stderr",
          "text": [
            "100%|██████████| 26421880/26421880 [00:02<00:00, 11840422.87it/s]\n"
          ]
        },
        {
          "output_type": "stream",
          "name": "stdout",
          "text": [
            "Extracting ./FashionMNIST/FashionMNIST/raw/train-images-idx3-ubyte.gz to ./FashionMNIST/FashionMNIST/raw\n",
            "\n",
            "Downloading http://fashion-mnist.s3-website.eu-central-1.amazonaws.com/train-labels-idx1-ubyte.gz\n",
            "Downloading http://fashion-mnist.s3-website.eu-central-1.amazonaws.com/train-labels-idx1-ubyte.gz to ./FashionMNIST/FashionMNIST/raw/train-labels-idx1-ubyte.gz\n"
          ]
        },
        {
          "output_type": "stream",
          "name": "stderr",
          "text": [
            "100%|██████████| 29515/29515 [00:00<00:00, 199177.33it/s]\n"
          ]
        },
        {
          "output_type": "stream",
          "name": "stdout",
          "text": [
            "Extracting ./FashionMNIST/FashionMNIST/raw/train-labels-idx1-ubyte.gz to ./FashionMNIST/FashionMNIST/raw\n",
            "\n",
            "Downloading http://fashion-mnist.s3-website.eu-central-1.amazonaws.com/t10k-images-idx3-ubyte.gz\n",
            "Downloading http://fashion-mnist.s3-website.eu-central-1.amazonaws.com/t10k-images-idx3-ubyte.gz to ./FashionMNIST/FashionMNIST/raw/t10k-images-idx3-ubyte.gz\n"
          ]
        },
        {
          "output_type": "stream",
          "name": "stderr",
          "text": [
            "100%|██████████| 4422102/4422102 [00:01<00:00, 3676598.93it/s]\n"
          ]
        },
        {
          "output_type": "stream",
          "name": "stdout",
          "text": [
            "Extracting ./FashionMNIST/FashionMNIST/raw/t10k-images-idx3-ubyte.gz to ./FashionMNIST/FashionMNIST/raw\n",
            "\n",
            "Downloading http://fashion-mnist.s3-website.eu-central-1.amazonaws.com/t10k-labels-idx1-ubyte.gz\n",
            "Downloading http://fashion-mnist.s3-website.eu-central-1.amazonaws.com/t10k-labels-idx1-ubyte.gz to ./FashionMNIST/FashionMNIST/raw/t10k-labels-idx1-ubyte.gz\n"
          ]
        },
        {
          "output_type": "stream",
          "name": "stderr",
          "text": [
            "100%|██████████| 5148/5148 [00:00<00:00, 9110665.40it/s]"
          ]
        },
        {
          "output_type": "stream",
          "name": "stdout",
          "text": [
            "Extracting ./FashionMNIST/FashionMNIST/raw/t10k-labels-idx1-ubyte.gz to ./FashionMNIST/FashionMNIST/raw\n",
            "\n"
          ]
        },
        {
          "output_type": "stream",
          "name": "stderr",
          "text": [
            "\n"
          ]
        }
      ]
    },
    {
      "cell_type": "markdown",
      "source": [
        "Let's check that everything has been downloaded."
      ],
      "metadata": {
        "id": "VDzG3rgo3052"
      }
    },
    {
      "cell_type": "code",
      "source": [
        "print(len(trainingdata))\n",
        "print(len(testdata))"
      ],
      "metadata": {
        "colab": {
          "base_uri": "https://localhost:8080/"
        },
        "id": "22dRVEKY3z37",
        "outputId": "74cbaf6a-3635-45d2-89d6-1ff498005d8d"
      },
      "execution_count": 8,
      "outputs": [
        {
          "output_type": "stream",
          "name": "stdout",
          "text": [
            "60000\n",
            "10000\n"
          ]
        }
      ]
    },
    {
      "cell_type": "markdown",
      "source": [
        "Let's investigate to see what's inside the dataset."
      ],
      "metadata": {
        "id": "nVE1Aqo_4Bx9"
      }
    },
    {
      "cell_type": "code",
      "source": [
        "image, label = trainingdata[0]\n",
        "print(image.shape, label)"
      ],
      "metadata": {
        "colab": {
          "base_uri": "https://localhost:8080/"
        },
        "id": "bf0Snhu-4A_c",
        "outputId": "c5cd74cf-03af-429e-914c-2b2baecd41ea"
      },
      "execution_count": 9,
      "outputs": [
        {
          "output_type": "stream",
          "name": "stdout",
          "text": [
            "torch.Size([1, 28, 28]) 9\n"
          ]
        }
      ]
    },
    {
      "cell_type": "markdown",
      "source": [
        "We cannot directly plot the image object given that its first dimension has a size of 1. So we will use the `squeeze` function to get rid of the first dimension."
      ],
      "metadata": {
        "id": "pWzhVnwN4Img"
      }
    },
    {
      "cell_type": "code",
      "source": [
        "print(image.squeeze().shape)"
      ],
      "metadata": {
        "colab": {
          "base_uri": "https://localhost:8080/"
        },
        "id": "STrrNZFf2uYg",
        "outputId": "48bd407f-b693-46a7-c0e8-a6c220c04cfc"
      },
      "execution_count": 10,
      "outputs": [
        {
          "output_type": "stream",
          "name": "stdout",
          "text": [
            "torch.Size([28, 28])\n"
          ]
        }
      ]
    },
    {
      "cell_type": "code",
      "source": [
        "import matplotlib.pyplot as plt\n",
        "%matplotlib inline\n",
        "plt.imshow(image.squeeze(), cmap=plt.cm.gray)"
      ],
      "metadata": {
        "colab": {
          "base_uri": "https://localhost:8080/",
          "height": 448
        },
        "id": "XSoAec0d4H2j",
        "outputId": "fb7458a2-4446-4cec-a793-82b590664f0f"
      },
      "execution_count": 11,
      "outputs": [
        {
          "output_type": "execute_result",
          "data": {
            "text/plain": [
              "<matplotlib.image.AxesImage at 0x7aa97da9b520>"
            ]
          },
          "metadata": {},
          "execution_count": 11
        },
        {
          "output_type": "display_data",
          "data": {
            "text/plain": [
              "<Figure size 640x480 with 1 Axes>"
            ],
            "image/png": "[encoded data removed]"
          },
          "metadata": {}
        }
      ]
    },
    {
      "cell_type": "markdown",
      "source": [
        "Looks like a shoe? Fashion-MNIST is a bunch of different black and white images of clothing with a corresponding label identifying the category the clothing belongs to. It looks like label 9 corresponds to shoes.\n",
        "\n",
        "In order to nicely wrap the process of iterating through the dataset, we'll use a dataloader."
      ],
      "metadata": {
        "id": "2M2X2FW94Tx5"
      }
    },
    {
      "cell_type": "code",
      "source": [
        "trainDataLoader = torch.utils.data.DataLoader(trainingdata,batch_size=64,shuffle=True)\n",
        "testDataLoader = torch.utils.data.DataLoader(testdata,batch_size=64,shuffle=False)"
      ],
      "metadata": {
        "id": "zrqhfhQ94h9F"
      },
      "execution_count": 12,
      "outputs": []
    },
    {
      "cell_type": "markdown",
      "source": [
        "Let's also check the length of the train and test dataloader"
      ],
      "metadata": {
        "id": "IaNv97ra250d"
      }
    },
    {
      "cell_type": "code",
      "source": [
        "print(len(trainDataLoader))\n",
        "print(len(testDataLoader))"
      ],
      "metadata": {
        "colab": {
          "base_uri": "https://localhost:8080/"
        },
        "id": "t8HqOFhb3Ajp",
        "outputId": "222fd417-abe7-43c3-b0ed-df4f458881a7"
      },
      "execution_count": 13,
      "outputs": [
        {
          "output_type": "stream",
          "name": "stdout",
          "text": [
            "938\n",
            "157\n"
          ]
        }
      ]
    },
    {
      "cell_type": "markdown",
      "source": [
        "The length here depends upon the batch size defined above. Multiplying the length of our dataloader by the batch size should give us back the number of samples in each set."
      ],
      "metadata": {
        "id": "9CzCOA5-YK6i"
      }
    },
    {
      "cell_type": "code",
      "source": [
        "print(len(trainDataLoader) * 64) # batch_size from above\n",
        "print(len(testDataLoader) * 64)"
      ],
      "metadata": {
        "colab": {
          "base_uri": "https://localhost:8080/"
        },
        "id": "TEKU8Vcl3EXz",
        "outputId": "a453e824-e92d-48cf-d1ea-913a07c09ea0"
      },
      "execution_count": 14,
      "outputs": [
        {
          "output_type": "stream",
          "name": "stdout",
          "text": [
            "60032\n",
            "10048\n"
          ]
        }
      ]
    },
    {
      "cell_type": "markdown",
      "source": [
        "Now let's use it to look at a few images."
      ],
      "metadata": {
        "id": "AQ_9qunz4xUd"
      }
    },
    {
      "cell_type": "code",
      "source": [
        "images, labels = next(iter(trainDataLoader))\n",
        "\n",
        "plt.figure(figsize=(10,4))\n",
        "for index in np.arange(0,5):\n",
        "  plt.subplot(1,5,index+1)\n",
        "  plt.title(f'Label: {labels[index].item()}')\n",
        "  plt.imshow(images[index].squeeze(),cmap=plt.cm.gray)"
      ],
      "metadata": {
        "colab": {
          "base_uri": "https://localhost:8080/",
          "height": 216
        },
        "id": "da5yKkMo4zKz",
        "outputId": "deefcde8-136f-432f-d36f-1d66696d5d35"
      },
      "execution_count": 15,
      "outputs": [
        {
          "output_type": "display_data",
          "data": {
            "text/plain": [
              "<Figure size 1000x400 with 5 Axes>"
            ],
            "image/png": "[encoded data removed]"
          },
          "metadata": {}
        }
      ]
    },
    {
      "cell_type": "markdown",
      "source": [
        "Now let's set up our model."
      ],
      "metadata": {
        "id": "VGyspXXr5FUk"
      }
    },
    {
      "cell_type": "code",
      "source": [
        "import torch.nn as nn\n",
        "import torch.nn.functional as F"
      ],
      "metadata": {
        "id": "V1l26nFHDMWF"
      },
      "execution_count": 32,
      "outputs": []
    },
    {
      "cell_type": "code",
      "source": [
        "class LinearReg(torch.nn.Module):\n",
        "  def __init__(self):\n",
        "    super(LinearReg, self).__init__()\n",
        "    self.fc1 = torch.nn.Linear(28*28, 256)\n",
        "    self.fc2 = torch.nn.Linear(256, 128)\n",
        "    self.fc3 = torch.nn.Linear(128, 64)\n",
        "    self.fc4 = torch.nn.Linear(64,10)\n",
        "\n",
        "  def forward(self, x):\n",
        "    x = F.relu(self.fc1(x))\n",
        "    x = F.relu(self.fc2(x))\n",
        "    x = F.relu(self.fc3(x))\n",
        "    x = self.fc4(x)\n",
        "\n",
        "\n",
        "    # x = x.view(-1, 28*28) # change so 784 vector instead of 28x28 matrix\n",
        "    # return self.linear(x)\n",
        "    return x\n",
        "\n",
        "\n",
        "model = LinearReg() # Step 1: architecture\n",
        "print(model)\n",
        "loss = torch.nn.CrossEntropyLoss() # Step 2: loss\n",
        "# optimizer = torch.optim.SGD(model.parameters(), lr=0.01) # Step 3: training method\n",
        "optimizer = torch.optim.SGD(model.parameters(), lr=0.001) # Step 3: training method\n"
      ],
      "metadata": {
        "id": "QbleoEIy5EfA",
        "colab": {
          "base_uri": "https://localhost:8080/"
        },
        "outputId": "8bdc841d-9900-4b86-fba1-556bc2f89693"
      },
      "execution_count": 37,
      "outputs": [
        {
          "output_type": "stream",
          "name": "stdout",
          "text": [
            "LinearReg(\n",
            "  (fc1): Linear(in_features=784, out_features=256, bias=True)\n",
            "  (fc2): Linear(in_features=256, out_features=128, bias=True)\n",
            "  (fc3): Linear(in_features=128, out_features=64, bias=True)\n",
            "  (fc4): Linear(in_features=64, out_features=10, bias=True)\n",
            ")\n"
          ]
        }
      ]
    },
    {
      "cell_type": "markdown",
      "source": [
        "Now let's train our model!"
      ],
      "metadata": {
        "id": "r6s7Ecae5tIU"
      }
    },
    {
      "cell_type": "code",
      "source": [
        "train_loss_history = []\n",
        "test_loss_history = []\n",
        "\n",
        "for epoch in range(20):\n",
        "  train_loss = 0.0\n",
        "  test_loss = 0.0\n",
        "\n",
        "  model.train()\n",
        "  for i, data in enumerate(trainDataLoader):\n",
        "    images, labels = data\n",
        "    # images = images.cuda()\n",
        "    # labels = labels.cuda()\n",
        "    optimizer.zero_grad() # zero out any gradient values from the previous iteration\n",
        "    predicted_output = model(images.view(-1, 28*28)) # forward propagation\n",
        "    fit = loss(predicted_output, labels)  # calculate our measure of goodness\n",
        "    fit.backward() # backpropagation\n",
        "    optimizer.step() # update the weights of our trainable parameters\n",
        "    train_loss += fit.item()\n",
        "\n",
        "  model.eval()\n",
        "  for i, data in enumerate(testDataLoader):\n",
        "    with torch.no_grad():\n",
        "      images, labels = data\n",
        "      # images = images.cuda()\n",
        "      # labels = labels.cuda()\n",
        "      predicted_output = model(images.view(-1, 28*28))\n",
        "      fit = loss(predicted_output, labels)\n",
        "      test_loss += fit.item()\n",
        "  train_loss = train_loss / len(trainDataLoader)\n",
        "  test_loss = test_loss / len(testDataLoader)\n",
        "  train_loss_history += [train_loss]\n",
        "  test_loss_history += [test_loss]\n",
        "  print(f'Epoch {epoch}, Train loss {train_loss}, Test loss {test_loss}')"
      ],
      "metadata": {
        "id": "8vGgZop05u2B",
        "colab": {
          "base_uri": "https://localhost:8080/",
          "height": 358
        },
        "outputId": "9d0ba164-bcb9-4eb5-9635-4872b2a73eb6"
      },
      "execution_count": 40,
      "outputs": [
        {
          "output_type": "error",
          "ename": "RuntimeError",
          "evalue": "Found no NVIDIA driver on your system. Please check that you have an NVIDIA GPU and installed a driver from http://www.nvidia.com/Download/index.aspx",
          "traceback": [
            "\u001b[0;31m---------------------------------------------------------------------------\u001b[0m",
            "\u001b[0;31mRuntimeError\u001b[0m                              Traceback (most recent call last)",
            "\u001b[0;32m<ipython-input-40-dc944f48ef28>\u001b[0m in \u001b[0;36m<cell line: 4>\u001b[0;34m()\u001b[0m\n\u001b[1;32m      9\u001b[0m   \u001b[0;32mfor\u001b[0m \u001b[0mi\u001b[0m\u001b[0;34m,\u001b[0m \u001b[0mdata\u001b[0m \u001b[0;32min\u001b[0m \u001b[0menumerate\u001b[0m\u001b[0;34m(\u001b[0m\u001b[0mtrainDataLoader\u001b[0m\u001b[0;34m)\u001b[0m\u001b[0;34m:\u001b[0m\u001b[0;34m\u001b[0m\u001b[0;34m\u001b[0m\u001b[0m\n\u001b[1;32m     10\u001b[0m     \u001b[0mimages\u001b[0m\u001b[0;34m,\u001b[0m \u001b[0mlabels\u001b[0m \u001b[0;34m=\u001b[0m \u001b[0mdata\u001b[0m\u001b[0;34m\u001b[0m\u001b[0;34m\u001b[0m\u001b[0m\n\u001b[0;32m---> 11\u001b[0;31m     \u001b[0mimages\u001b[0m \u001b[0;34m=\u001b[0m \u001b[0mimages\u001b[0m\u001b[0;34m.\u001b[0m\u001b[0mcuda\u001b[0m\u001b[0;34m(\u001b[0m\u001b[0;34m)\u001b[0m\u001b[0;34m\u001b[0m\u001b[0;34m\u001b[0m\u001b[0m\n\u001b[0m\u001b[1;32m     12\u001b[0m     \u001b[0mlabels\u001b[0m \u001b[0;34m=\u001b[0m \u001b[0mlabels\u001b[0m\u001b[0;34m.\u001b[0m\u001b[0mcuda\u001b[0m\u001b[0;34m(\u001b[0m\u001b[0;34m)\u001b[0m\u001b[0;34m\u001b[0m\u001b[0;34m\u001b[0m\u001b[0m\n\u001b[1;32m     13\u001b[0m     \u001b[0moptimizer\u001b[0m\u001b[0;34m.\u001b[0m\u001b[0mzero_grad\u001b[0m\u001b[0;34m(\u001b[0m\u001b[0;34m)\u001b[0m \u001b[0;31m# zero out any gradient values from the previous iteration\u001b[0m\u001b[0;34m\u001b[0m\u001b[0;34m\u001b[0m\u001b[0m\n",
            "\u001b[0;32m/usr/local/lib/python3.10/dist-packages/torch/cuda/__init__.py\u001b[0m in \u001b[0;36m_lazy_init\u001b[0;34m()\u001b[0m\n\u001b[1;32m    296\u001b[0m         \u001b[0;32mif\u001b[0m \u001b[0;34m\"CUDA_MODULE_LOADING\"\u001b[0m \u001b[0;32mnot\u001b[0m \u001b[0;32min\u001b[0m \u001b[0mos\u001b[0m\u001b[0;34m.\u001b[0m\u001b[0menviron\u001b[0m\u001b[0;34m:\u001b[0m\u001b[0;34m\u001b[0m\u001b[0;34m\u001b[0m\u001b[0m\n\u001b[1;32m    297\u001b[0m             \u001b[0mos\u001b[0m\u001b[0;34m.\u001b[0m\u001b[0menviron\u001b[0m\u001b[0;34m[\u001b[0m\u001b[0;34m\"CUDA_MODULE_LOADING\"\u001b[0m\u001b[0;34m]\u001b[0m \u001b[0;34m=\u001b[0m \u001b[0;34m\"LAZY\"\u001b[0m\u001b[0;34m\u001b[0m\u001b[0;34m\u001b[0m\u001b[0m\n\u001b[0;32m--> 298\u001b[0;31m         \u001b[0mtorch\u001b[0m\u001b[0;34m.\u001b[0m\u001b[0m_C\u001b[0m\u001b[0;34m.\u001b[0m\u001b[0m_cuda_init\u001b[0m\u001b[0;34m(\u001b[0m\u001b[0;34m)\u001b[0m\u001b[0;34m\u001b[0m\u001b[0;34m\u001b[0m\u001b[0m\n\u001b[0m\u001b[1;32m    299\u001b[0m         \u001b[0;31m# Some of the queued calls may reentrantly call _lazy_init();\u001b[0m\u001b[0;34m\u001b[0m\u001b[0;34m\u001b[0m\u001b[0m\n\u001b[1;32m    300\u001b[0m         \u001b[0;31m# we need to just return without initializing in that case.\u001b[0m\u001b[0;34m\u001b[0m\u001b[0;34m\u001b[0m\u001b[0m\n",
            "\u001b[0;31mRuntimeError\u001b[0m: Found no NVIDIA driver on your system. Please check that you have an NVIDIA GPU and installed a driver from http://www.nvidia.com/Download/index.aspx"
          ]
        }
      ]
    },
    {
      "cell_type": "code",
      "source": [],
      "metadata": {
        "id": "P36cszpfd6CV"
      },
      "execution_count": null,
      "outputs": []
    },
    {
      "cell_type": "markdown",
      "source": [
        "Let's plot our loss by training epoch to see how we did."
      ],
      "metadata": {
        "id": "fh-rlPJ46-yj"
      }
    },
    {
      "cell_type": "code",
      "source": [
        "plt.plot(range(20),train_loss_history,'-',linewidth=3,label='Train error')\n",
        "plt.plot(range(20),test_loss_history,'-',linewidth=3,label='Test error')\n",
        "plt.xlabel('epoch')\n",
        "plt.ylabel('loss')\n",
        "plt.grid(True)\n",
        "plt.legend()\n",
        "plt.show()"
      ],
      "metadata": {
        "colab": {
          "base_uri": "https://localhost:8080/",
          "height": 449
        },
        "id": "vP9KBzxz7Bif",
        "outputId": "9f0a75a9-6c5d-40a9-af5d-a9204f461940"
      },
      "execution_count": 18,
      "outputs": [
        {
          "output_type": "display_data",
          "data": {
            "text/plain": [
              "<Figure size 640x480 with 1 Axes>"
            ],
            "image/png": "[encoded data removed]"
          },
          "metadata": {}
        }
      ]
    },
    {
      "cell_type": "markdown",
      "source": [
        "Why is test loss larger than training loss?\n",
        "\n",
        "We definitely see some improvement. Let's look at the images, the predictions our model makes and the true label."
      ],
      "metadata": {
        "id": "IyPSu5tr7Enh"
      }
    },
    {
      "cell_type": "markdown",
      "source": [
        "Now for the labels and predicted labels."
      ],
      "metadata": {
        "id": "j4ZJAue77Oa4"
      }
    },
    {
      "cell_type": "code",
      "source": [
        "predicted_outputs = model(images)\n",
        "predicted_classes = torch.max(predicted_outputs, 1)[1]\n",
        "print('Predicted:', predicted_classes)\n",
        "fit = loss(predicted_output, labels)\n",
        "print('True labels:', labels)\n",
        "print(fit.item())"
      ],
      "metadata": {
        "colab": {
          "base_uri": "https://localhost:8080/"
        },
        "id": "PWAHUPQf7Nuj",
        "outputId": "ec7230ed-afff-415d-d13b-a6899bc19d4d"
      },
      "execution_count": 19,
      "outputs": [
        {
          "output_type": "stream",
          "name": "stdout",
          "text": [
            "Predicted: tensor([3, 1, 7, 5, 8, 2, 5, 6, 8, 9, 1, 9, 1, 8, 1, 5])\n",
            "True labels: tensor([3, 2, 7, 5, 8, 4, 5, 6, 8, 9, 1, 9, 1, 8, 1, 5])\n",
            "0.31125834584236145\n"
          ]
        }
      ]
    },
    {
      "cell_type": "code",
      "source": [
        "plt.imshow(images[1].squeeze().cpu(), cmap=plt.cm.gray)\n",
        "plt.title(f'Pred: {predicted_classes[1].item()}, True: {labels[1].item()}')"
      ],
      "metadata": {
        "colab": {
          "base_uri": "https://localhost:8080/",
          "height": 470
        },
        "id": "fODInaCcLBIF",
        "outputId": "6ea2998a-76e4-4c40-9dfb-47fe80ca4c22"
      },
      "execution_count": 20,
      "outputs": [
        {
          "output_type": "execute_result",
          "data": {
            "text/plain": [
              "Text(0.5, 1.0, 'Pred: 1, True: 2')"
            ]
          },
          "metadata": {},
          "execution_count": 20
        },
        {
          "output_type": "display_data",
          "data": {
            "text/plain": [
              "<Figure size 640x480 with 1 Axes>"
            ],
            "image/png": "[encoded data removed]"
          },
          "metadata": {}
        }
      ]
    }
  ]
}